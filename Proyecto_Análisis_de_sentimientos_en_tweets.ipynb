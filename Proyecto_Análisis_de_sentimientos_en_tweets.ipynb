{
  "nbformat": 4,
  "nbformat_minor": 0,
  "metadata": {
    "colab": {
      "name": "Proyecto: Análisis de sentimientos en tweets.ipynb",
      "provenance": [],
      "collapsed_sections": [],
      "authorship_tag": "ABX9TyPXuMehZFib5c9iSUzH2kAZ",
      "include_colab_link": true
    },
    "kernelspec": {
      "name": "python3",
      "display_name": "Python 3"
    },
    "language_info": {
      "name": "python"
    }
  },
  "cells": [
    {
      "cell_type": "markdown",
      "metadata": {
        "id": "view-in-github",
        "colab_type": "text"
      },
      "source": [
        "<a href=\"https://colab.research.google.com/github/Mgobeaalcoba/proyectos_platzi/blob/main/Proyecto_An%C3%A1lisis_de_sentimientos_en_tweets.ipynb\" target=\"_parent\"><img src=\"https://colab.research.google.com/assets/colab-badge.svg\" alt=\"Open In Colab\"/></a>"
      ]
    },
    {
      "cell_type": "code",
      "metadata": {
        "id": "RkZ-r-xxX6WD"
      },
      "source": [
        "import numpy as np"
      ],
      "execution_count": 1,
      "outputs": []
    },
    {
      "cell_type": "code",
      "metadata": {
        "id": "q_exM2F1bo8t"
      },
      "source": [
        "a = \"Gran mexicano y excelente en su área, su muerte es una enorme perdida y debería ser luto nacional!!!\"\n",
        "b = \"Vaya señora que bueno que se asesora por alguien inteligente no por el ignorante del Gatt.\"\n",
        "c = \"Se me ocurre y sin ver todos los videos de Plazti que me informéis por dónde empiezo. Entiendo que os tendría que decir quién soy y que quiero, vamos conocerme para asesorarme bien. Un saludo\"\n",
        "d = \"Soy docente universitario, estoy intentando preparar mis clases en modo platzi bien didáctico, (le llamo modo noticiero), descargue una plataforma gratuita de grabación y transmisión de vídeo, se llama Obs estudio!bueno la sigo remando con sus funciones pero sé que saldrá algo!\"\n"
      ],
      "execution_count": 2,
      "outputs": []
    },
    {
      "cell_type": "code",
      "metadata": {
        "id": "fU9HRyhBb-GM"
      },
      "source": [
        "def a_lista(string):\n",
        "  string = string.replace(\"!\",\" \").lower()\n",
        "  lista = string.replace(\"!\",\"\").replace(\",\",\"\").replace(\".\",\"\").replace(\"(\",\"\").replace(\")\",\"\").split(\" \")\n",
        "  return lista"
      ],
      "execution_count": 3,
      "outputs": []
    },
    {
      "cell_type": "code",
      "metadata": {
        "id": "gQwwg50KgpNZ"
      },
      "source": [
        "def contador(referencias, tweets):\n",
        "  i = 0\n",
        "  vector_palabras = []\n",
        "  for referencia in referencias:\n",
        "    for palabra in tweets:\n",
        "      if referencia == palabra:\n",
        "        i += 1\n",
        "    vector_palabras.append(i)\n",
        "    i = 0\n",
        "  return vector_palabras"
      ],
      "execution_count": 4,
      "outputs": []
    },
    {
      "cell_type": "code",
      "metadata": {
        "id": "4HDGw-oKohbV"
      },
      "source": [
        "def clasificador(criterio1, criterio2, criterio3, tweets):\n",
        "  i = 0\n",
        "  vector_palabras = []\n",
        "  for criterio in criterio1:\n",
        "    for palabra in tweets:\n",
        "      if criterio == palabra:\n",
        "        i += 1\n",
        "  vector_palabras.append(i)\n",
        "  i = 0\n",
        "  for criterio in criterio2:\n",
        "    for palabra in tweets:\n",
        "      if criterio == palabra:\n",
        "        i += 1\n",
        "  vector_palabras.append(i)\n",
        "  i = 0\n",
        "  for criterio in criterio3:\n",
        "    for palabra in tweets:\n",
        "      if criterio == palabra:\n",
        "        i += 1\n",
        "  vector_palabras.append(i)  \n",
        "  return vector_palabras"
      ],
      "execution_count": 5,
      "outputs": []
    },
    {
      "cell_type": "code",
      "metadata": {
        "id": "ZdjZfGXPc5cJ"
      },
      "source": [
        "list_a = a_lista(a)\n",
        "list_b = a_lista(b)\n",
        "list_c = a_lista(c)\n",
        "list_d = a_lista(d)"
      ],
      "execution_count": 6,
      "outputs": []
    },
    {
      "cell_type": "code",
      "metadata": {
        "colab": {
          "base_uri": "https://localhost:8080/"
        },
        "id": "t6bD5bqrdg5V",
        "outputId": "93da96b8-0818-43f1-cd1f-9bcf89c71485"
      },
      "source": [
        "print(list_a)\n",
        "print(list_b)\n",
        "print(list_c)\n",
        "print(list_d)"
      ],
      "execution_count": 7,
      "outputs": [
        {
          "output_type": "stream",
          "name": "stdout",
          "text": [
            "['gran', 'mexicano', 'y', 'excelente', 'en', 'su', 'área', 'su', 'muerte', 'es', 'una', 'enorme', 'perdida', 'y', 'debería', 'ser', 'luto', 'nacional', '', '', '']\n",
            "['vaya', 'señora', 'que', 'bueno', 'que', 'se', 'asesora', 'por', 'alguien', 'inteligente', 'no', 'por', 'el', 'ignorante', 'del', 'gatt']\n",
            "['se', 'me', 'ocurre', 'y', 'sin', 'ver', 'todos', 'los', 'videos', 'de', 'plazti', 'que', 'me', 'informéis', 'por', 'dónde', 'empiezo', 'entiendo', 'que', 'os', 'tendría', 'que', 'decir', 'quién', 'soy', 'y', 'que', 'quiero', 'vamos', 'conocerme', 'para', 'asesorarme', 'bien', 'un', 'saludo']\n",
            "['soy', 'docente', 'universitario', 'estoy', 'intentando', 'preparar', 'mis', 'clases', 'en', 'modo', 'platzi', 'bien', 'didáctico', 'le', 'llamo', 'modo', 'noticiero', 'descargue', 'una', 'plataforma', 'gratuita', 'de', 'grabación', 'y', 'transmisión', 'de', 'vídeo', 'se', 'llama', 'obs', 'estudio', 'bueno', 'la', 'sigo', 'remando', 'con', 'sus', 'funciones', 'pero', 'sé', 'que', 'saldrá', 'algo', '']\n"
          ]
        }
      ]
    },
    {
      "cell_type": "code",
      "metadata": {
        "id": "R01hHyRWgBgX"
      },
      "source": [
        "buscadas = [\"muerte\", \"perdida\", \"luto\", \"excelente\" , \"gran\" , \"positivo\", \"bueno\", \"inteligente\", \"ignorante\", \"quiero\", \"bien\", \"didáctico\", \"bueno\", \"remando\", \"saldrá\"]"
      ],
      "execution_count": 8,
      "outputs": []
    },
    {
      "cell_type": "code",
      "metadata": {
        "colab": {
          "base_uri": "https://localhost:8080/"
        },
        "id": "xkuyagl8iJOn",
        "outputId": "0808e98a-12a2-4b0b-b11d-bd83340c8347"
      },
      "source": [
        "cuenta_cadena_a = contador(buscadas,list_a) \n",
        "cuenta_cadena_b = contador(buscadas,list_b)\n",
        "cuenta_cadena_c = contador(buscadas,list_c)\n",
        "cuenta_cadena_d = contador(buscadas,list_d)\n",
        "\n",
        "print(cuenta_cadena_a)\n",
        "print(cuenta_cadena_b)\n",
        "print(cuenta_cadena_c)\n",
        "print(cuenta_cadena_d)"
      ],
      "execution_count": 13,
      "outputs": [
        {
          "output_type": "stream",
          "name": "stdout",
          "text": [
            "[1, 1, 1, 1, 1, 0, 0, 0, 0, 0, 0, 0, 0, 0, 0]\n",
            "[0, 0, 0, 0, 0, 0, 1, 1, 1, 0, 0, 0, 1, 0, 0]\n",
            "[0, 0, 0, 0, 0, 0, 0, 0, 0, 1, 1, 0, 0, 0, 0]\n",
            "[0, 0, 0, 0, 0, 0, 1, 0, 0, 0, 1, 1, 1, 1, 1]\n"
          ]
        }
      ]
    },
    {
      "cell_type": "code",
      "metadata": {
        "id": "61KUy1BXn_pe"
      },
      "source": [
        "positivas = [\"excelente\",\"gran\",\"positivo\",\"bueno\",\"inteligente\",\"quiero\",\"bien\",\"didático\",\"bueno\",\"saldrá\"]\n",
        "negativas = [\"muerte\",\"perdida\",\"luto\",\"ignorante\"]\n",
        "neutras = [\"remando\",\"saldrá\"]"
      ],
      "execution_count": 10,
      "outputs": []
    },
    {
      "cell_type": "code",
      "metadata": {
        "colab": {
          "base_uri": "https://localhost:8080/"
        },
        "id": "YzOAi7mcpi96",
        "outputId": "10f46d3d-3bb3-4b40-ca8a-b99d6074f72d"
      },
      "source": [
        "clasifica_cadena_a = clasificador(positivas,neutras,negativas,list_a)\n",
        "clasifica_cadena_b = clasificador(positivas,neutras,negativas,list_b)\n",
        "clasifica_cadena_c = clasificador(positivas,neutras,negativas,list_c)\n",
        "clasifica_cadena_d = clasificador(positivas,neutras,negativas,list_d)\n",
        "\n",
        "print(clasifica_cadena_a)\n",
        "print(clasifica_cadena_b)\n",
        "print(clasifica_cadena_c)\n",
        "print(clasifica_cadena_d)"
      ],
      "execution_count": 17,
      "outputs": [
        {
          "output_type": "stream",
          "name": "stdout",
          "text": [
            "[2, 0, 3]\n",
            "[3, 0, 1]\n",
            "[2, 0, 0]\n",
            "[4, 2, 0]\n"
          ]
        }
      ]
    },
    {
      "cell_type": "code",
      "metadata": {
        "colab": {
          "base_uri": "https://localhost:8080/"
        },
        "id": "osxOAtaDW4v2",
        "outputId": "c5c620af-0ea2-4696-cd2d-03ca9256172b"
      },
      "source": [
        "calidad_a = sum(cuenta_cadena_a)/len(cuenta_cadena_a)\n",
        "calidad_b = sum(cuenta_cadena_b)/len(cuenta_cadena_b)\n",
        "calidad_c = sum(cuenta_cadena_c)/len(cuenta_cadena_c)\n",
        "calidad_d = sum(cuenta_cadena_d)/len(cuenta_cadena_d)\n",
        "print(calidad_a)\n",
        "print(calidad_b)\n",
        "print(calidad_c)\n",
        "print(calidad_d)\n",
        "calidad_promedio = sum(cuenta_cadena_a+cuenta_cadena_b+cuenta_cadena_c+cuenta_cadena_d)/len(cuenta_cadena_a+cuenta_cadena_b+cuenta_cadena_c+cuenta_cadena_d)\n",
        "print(calidad_promedio)"
      ],
      "execution_count": 29,
      "outputs": [
        {
          "output_type": "stream",
          "name": "stdout",
          "text": [
            "0.3333333333333333\n",
            "0.26666666666666666\n",
            "0.13333333333333333\n",
            "0.4\n",
            "0.2833333333333333\n"
          ]
        }
      ]
    },
    {
      "cell_type": "code",
      "metadata": {
        "colab": {
          "base_uri": "https://localhost:8080/"
        },
        "id": "kotVTvNmXZJV",
        "outputId": "3e522d6a-fe62-4cc9-b9db-e85009374fd3"
      },
      "source": [
        "avg_sentimiento_a = sum(clasifica_cadena_a)/len(clasifica_cadena_a)\n",
        "avg_sentimiento_b = sum(clasifica_cadena_b)/len(clasifica_cadena_b)\n",
        "avg_sentimiento_c = sum(clasifica_cadena_c)/len(clasifica_cadena_c)\n",
        "avg_sentimiento_d = sum(clasifica_cadena_d)/len(clasifica_cadena_d)\n",
        "print(avg_sentimiento_a)\n",
        "print(avg_sentimiento_b)\n",
        "print(avg_sentimiento_c)\n",
        "print(avg_sentimiento_d)"
      ],
      "execution_count": 20,
      "outputs": [
        {
          "output_type": "stream",
          "name": "stdout",
          "text": [
            "1.6666666666666667\n",
            "1.3333333333333333\n",
            "0.6666666666666666\n",
            "2.0\n"
          ]
        }
      ]
    },
    {
      "cell_type": "code",
      "metadata": {
        "colab": {
          "base_uri": "https://localhost:8080/"
        },
        "id": "UwJnfBcMYTZX",
        "outputId": "e286747e-3d7b-4b77-9906-4d047b28a00e"
      },
      "source": [
        "array_sentimiento_a = np.array(clasifica_cadena_a)\n",
        "array_sentimiento_b = np.array(clasifica_cadena_b)\n",
        "array_sentimiento_c = np.array(clasifica_cadena_c)\n",
        "array_sentimiento_d = np.array(clasifica_cadena_d)\n",
        "print(array_sentimiento_a)\n",
        "print(array_sentimiento_b)\n",
        "print(array_sentimiento_c)\n",
        "print(array_sentimiento_d)\n"
      ],
      "execution_count": 23,
      "outputs": [
        {
          "output_type": "stream",
          "name": "stdout",
          "text": [
            "[2 0 3]\n",
            "[3 0 1]\n",
            "[2 0 0]\n",
            "[4 2 0]\n"
          ]
        }
      ]
    },
    {
      "cell_type": "code",
      "metadata": {
        "colab": {
          "base_uri": "https://localhost:8080/"
        },
        "id": "KqzVuaAxYs0V",
        "outputId": "7f481de6-e9c0-4d3f-9c12-32ce8991c7c2"
      },
      "source": [
        "array_score = np.array([1,0,-1])\n",
        "print(array_score)"
      ],
      "execution_count": 24,
      "outputs": [
        {
          "output_type": "stream",
          "name": "stdout",
          "text": [
            "[ 1  0 -1]\n"
          ]
        }
      ]
    },
    {
      "cell_type": "code",
      "metadata": {
        "colab": {
          "base_uri": "https://localhost:8080/"
        },
        "id": "ww2ZCSZJY1At",
        "outputId": "b6cb76bb-e1e6-403d-f837-39320b5d7546"
      },
      "source": [
        "prod_int_score_a = array_score.T.dot(array_sentimiento_a)\n",
        "prod_int_score_b = array_score.T.dot(array_sentimiento_b)\n",
        "prod_int_score_c = array_score.T.dot(array_sentimiento_c)\n",
        "prod_int_score_d = array_score.T.dot(array_sentimiento_d)\n",
        "print(prod_int_score_a)\n",
        "print(prod_int_score_b)\n",
        "print(prod_int_score_c)\n",
        "print(prod_int_score_d)"
      ],
      "execution_count": 26,
      "outputs": [
        {
          "output_type": "stream",
          "name": "stdout",
          "text": [
            "-1\n",
            "2\n",
            "2\n",
            "4\n"
          ]
        }
      ]
    },
    {
      "cell_type": "code",
      "metadata": {
        "colab": {
          "base_uri": "https://localhost:8080/"
        },
        "id": "Yk6QA8qbZqYM",
        "outputId": "0c254bc3-69fc-49bd-a510-698c4caaaaf1"
      },
      "source": [
        "print(calidad_a)\n",
        "print(calidad_b)\n",
        "print(calidad_c)\n",
        "print(calidad_d)\n",
        "print()\n",
        "print(avg_sentimiento_a)\n",
        "print(avg_sentimiento_b)\n",
        "print(avg_sentimiento_c)\n",
        "print(avg_sentimiento_d)\n",
        "print()\n",
        "print(prod_int_score_a)\n",
        "print(prod_int_score_b)\n",
        "print(prod_int_score_c)\n",
        "print(prod_int_score_d)\n",
        "print()"
      ],
      "execution_count": 27,
      "outputs": [
        {
          "output_type": "stream",
          "name": "stdout",
          "text": [
            "0.3333333333333333\n",
            "0.26666666666666666\n",
            "0.13333333333333333\n",
            "0.4\n",
            "\n",
            "1.6666666666666667\n",
            "1.3333333333333333\n",
            "0.6666666666666666\n",
            "2.0\n",
            "\n",
            "-1\n",
            "2\n",
            "2\n",
            "4\n",
            "\n"
          ]
        }
      ]
    },
    {
      "cell_type": "markdown",
      "metadata": {
        "id": "r5cLrUEyZ5ml"
      },
      "source": [
        "* ¿Qué tuit es más positivo?\n",
        "\n",
        "* ¿Qué tuit es más negativo?\n",
        "\n",
        "* ¿Cuál es tu calidad promedio?\n",
        "\n",
        "* ¿Cómo interpretas $avg(\\vec{s})$ y $score(\\vec{s})$?\n",
        "\n",
        "* ¿Cómo relacionas la calidad con $score(\\vec{s})$ y $avg(\\vec{s})$?"
      ]
    },
    {
      "cell_type": "markdown",
      "metadata": {
        "id": "fHKB-aV-aB3c"
      },
      "source": [
        "El cuarto tweet es mas positivo ya que tanto el promedio de sentimiento como el score sentimental son mas altos.\n",
        "\n",
        "El primer twwet es el mas negativo ya que el score sentimental es el único negativo, lo que significa que tiene una mayor carga de palabras negativas que positivas.\n",
        "\n",
        "Mi calidad promedio es 0,28 %\n",
        "\n",
        "El promedio de sentimiento muestra la carga sentimental del tweet sin tomar en cuenta si la misma es positiva o negativa. El score en cambio demuestra el caracter de esa carga valorativa tomando valores positivos si la carga valorativa es buena y negativas si es mala. Si el score se acerca a 0 la carga valorativa es neutra. \n",
        "\n",
        "A mayor calidad mayor promedio de sentimiento. No encuentro una relación lineal entre la calidad y el score ya que al caer algunas palabras en el campo neutro las mismas anulan la relación que se establece entre la calidad y el promedio de sentimiento. \n",
        "\n",
        "\n",
        "\n"
      ]
    }
  ]
}