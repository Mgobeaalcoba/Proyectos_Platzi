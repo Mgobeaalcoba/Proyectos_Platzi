{
  "nbformat": 4,
  "nbformat_minor": 0,
  "metadata": {
    "colab": {
      "name": "Proyecto: Análisis de sentimientos en tweets.ipynb",
      "provenance": [],
      "collapsed_sections": [],
      "authorship_tag": "ABX9TyMYf6b0mjga141rpkpf1ztJ",
      "include_colab_link": true
    },
    "kernelspec": {
      "name": "python3",
      "display_name": "Python 3"
    },
    "language_info": {
      "name": "python"
    }
  },
  "cells": [
    {
      "cell_type": "markdown",
      "metadata": {
        "id": "view-in-github",
        "colab_type": "text"
      },
      "source": [
        "<a href=\"https://colab.research.google.com/github/Mgobeaalcoba/proyectos_platzi/blob/main/Proyecto_An%C3%A1lisis_de_sentimientos_en_tweets.ipynb\" target=\"_parent\"><img src=\"https://colab.research.google.com/assets/colab-badge.svg\" alt=\"Open In Colab\"/></a>"
      ]
    },
    {
      "cell_type": "code",
      "metadata": {
        "id": "RkZ-r-xxX6WD"
      },
      "source": [
        "import numpy as np"
      ],
      "execution_count": 41,
      "outputs": []
    },
    {
      "cell_type": "code",
      "metadata": {
        "id": "q_exM2F1bo8t"
      },
      "source": [
        "a = \"Gran mexicano y excelente en su área, su muerte es una enorme perdida y debería ser luto nacional!!!\"\n",
        "b = \"Vaya señora que bueno que se asesora por alguien inteligente no por el ignorante del Gatt.\"\n",
        "c = \"Se me ocurre y sin ver todos los videos de Plazti que me informéis por dónde empiezo. Entiendo que os tendría que decir quién soy y que quiero, vamos conocerme para asesorarme bien. Un saludo\"\n",
        "d = \"Soy docente universitario, estoy intentando preparar mis clases en modo platzi bien didáctico, (le llamo modo noticiero), descargue una plataforma gratuita de grabación y transmisión de vídeo, se llama Obs estudio!bueno la sigo remando con sus funciones pero sé que saldrá algo!\"\n"
      ],
      "execution_count": 63,
      "outputs": []
    },
    {
      "cell_type": "code",
      "metadata": {
        "id": "fU9HRyhBb-GM"
      },
      "source": [
        "def a_lista(string):\n",
        "  string = string.replace(\"!\",\" \").lower()\n",
        "  lista = string.replace(\"!\",\"\").replace(\",\",\"\").replace(\".\",\"\").replace(\"(\",\"\").replace(\")\",\"\").split(\" \")\n",
        "  return lista"
      ],
      "execution_count": 64,
      "outputs": []
    },
    {
      "cell_type": "code",
      "metadata": {
        "id": "gQwwg50KgpNZ"
      },
      "source": [
        "def contador(referencias, tweets):\n",
        "  i = 0\n",
        "  vector_palabras = []\n",
        "  for referencia in referencias:\n",
        "    for palabra in tweets:\n",
        "      if referencia == palabra:\n",
        "        i += 1\n",
        "    vector_palabras.append(i)\n",
        "    i = 0\n",
        "  return vector_palabras"
      ],
      "execution_count": 66,
      "outputs": []
    },
    {
      "cell_type": "code",
      "metadata": {
        "id": "4HDGw-oKohbV"
      },
      "source": [
        "def clasificador(criterio1, criterio2, criterio3, tweets):\n",
        "  i = 0\n",
        "  vector_palabras = []\n",
        "  for criterio in criterio1:\n",
        "    for palabra in tweets:\n",
        "      if criterio == palabra:\n",
        "        i += 1\n",
        "  vector_palabras.append(i)\n",
        "  i = 0\n",
        "  for criterio in criterio2:\n",
        "    for palabra in tweets:\n",
        "      if criterio == palabra:\n",
        "        i += 1\n",
        "  vector_palabras.append(i)\n",
        "  i = 0\n",
        "  for criterio in criterio3:\n",
        "    for palabra in tweets:\n",
        "      if criterio == palabra:\n",
        "        i += 1\n",
        "  vector_palabras.append(i)  \n",
        "  return vector_palabras"
      ],
      "execution_count": 73,
      "outputs": []
    },
    {
      "cell_type": "code",
      "metadata": {
        "id": "ZdjZfGXPc5cJ"
      },
      "source": [
        "list_a = a_lista(a)\n",
        "list_b = a_lista(b)\n",
        "list_c = a_lista(c)\n",
        "list_d = a_lista(d)"
      ],
      "execution_count": 67,
      "outputs": []
    },
    {
      "cell_type": "code",
      "metadata": {
        "colab": {
          "base_uri": "https://localhost:8080/"
        },
        "id": "t6bD5bqrdg5V",
        "outputId": "bfc505e4-fd44-43b7-e5c2-c67dd7be9198"
      },
      "source": [
        "print(list_a)\n",
        "print(list_b)\n",
        "print(list_c)\n",
        "print(list_d)"
      ],
      "execution_count": 68,
      "outputs": [
        {
          "output_type": "stream",
          "name": "stdout",
          "text": [
            "['gran', 'mexicano', 'y', 'excelente', 'en', 'su', 'área', 'su', 'muerte', 'es', 'una', 'enorme', 'perdida', 'y', 'debería', 'ser', 'luto', 'nacional', '', '', '']\n",
            "['vaya', 'señora', 'que', 'bueno', 'que', 'se', 'asesora', 'por', 'alguien', 'inteligente', 'no', 'por', 'el', 'ignorante', 'del', 'gatt']\n",
            "['se', 'me', 'ocurre', 'y', 'sin', 'ver', 'todos', 'los', 'videos', 'de', 'plazti', 'que', 'me', 'informéis', 'por', 'dónde', 'empiezo', 'entiendo', 'que', 'os', 'tendría', 'que', 'decir', 'quién', 'soy', 'y', 'que', 'quiero', 'vamos', 'conocerme', 'para', 'asesorarme', 'bien', 'un', 'saludo', 'positivo']\n",
            "['soy', 'docente', 'universitario', 'estoy', 'intentando', 'preparar', 'mis', 'clases', 'en', 'modo', 'platzi', 'bien', 'didáctico', 'le', 'llamo', 'modo', 'noticiero', 'descargue', 'una', 'plataforma', 'gratuita', 'de', 'grabación', 'y', 'transmisión', 'de', 'vídeo', 'se', 'llama', 'obs', 'estudio', 'bueno', 'la', 'sigo', 'remando', 'con', 'sus', 'funciones', 'pero', 'sé', 'que', 'saldrá', 'algo', '']\n"
          ]
        }
      ]
    },
    {
      "cell_type": "markdown",
      "metadata": {
        "id": "TpKy2VXtgAX6"
      },
      "source": [
        "muerte, pérdida, luto, excelente,gran y positivo"
      ]
    },
    {
      "cell_type": "code",
      "metadata": {
        "id": "R01hHyRWgBgX"
      },
      "source": [
        "buscadas = [\"muerte\", \"perdida\", \"luto\", \"excelente\" , \"gran\" , \"positivo\", \"bueno\", \"inteligente\", \"ignorante\", \"quiero\", \"bien\", \"didáctico\", \"bueno\", \"remando\", \"saldrá\"]"
      ],
      "execution_count": 71,
      "outputs": []
    },
    {
      "cell_type": "code",
      "metadata": {
        "colab": {
          "base_uri": "https://localhost:8080/"
        },
        "id": "xkuyagl8iJOn",
        "outputId": "2cc1678d-7a1e-40f4-94a1-e176d808ba33"
      },
      "source": [
        "print(contador(buscadas,list_a),len(contador(buscadas,list_a)))\n",
        "print(contador(buscadas,list_b),len(contador(buscadas,list_b)))\n",
        "print(contador(buscadas,list_c),len(contador(buscadas,list_c)))\n",
        "print(contador(buscadas,list_d),len(contador(buscadas,list_d)))"
      ],
      "execution_count": 72,
      "outputs": [
        {
          "output_type": "stream",
          "name": "stdout",
          "text": [
            "[1, 1, 1, 1, 1, 0, 0, 0, 0, 0, 0, 0, 0, 0, 0] 15\n",
            "[0, 0, 0, 0, 0, 0, 1, 1, 1, 0, 0, 0, 1, 0, 0] 15\n",
            "[0, 0, 0, 0, 0, 1, 0, 0, 0, 1, 1, 0, 0, 0, 0] 15\n",
            "[0, 0, 0, 0, 0, 0, 1, 0, 0, 0, 1, 1, 1, 1, 1] 15\n"
          ]
        }
      ]
    },
    {
      "cell_type": "code",
      "metadata": {
        "id": "61KUy1BXn_pe"
      },
      "source": [
        "positivas = [\"excelente\",\"gran\",\"positivo\",\"bueno\",\"inteligente\",\"quiero\",\"bien\",\"didático\",\"bueno\",\"saldrá\"]\n",
        "negativas = [\"muerte\",\"perdida\",\"luto\",\"ignorante\"]\n",
        "neutras = [\"remando\",\"saldrá\"]"
      ],
      "execution_count": 76,
      "outputs": []
    },
    {
      "cell_type": "code",
      "metadata": {
        "colab": {
          "base_uri": "https://localhost:8080/"
        },
        "id": "YzOAi7mcpi96",
        "outputId": "273ae4fb-9971-48a2-e61d-6e57655d69cd"
      },
      "source": [
        "print(clasificador(positivas,neutras,negativas,list_a),len(clasificador(positivas,neutras,negativas,list_a)))\n",
        "print(clasificador(positivas,neutras,negativas,list_b),len(clasificador(positivas,neutras,negativas,list_b)))\n",
        "print(clasificador(positivas,neutras,negativas,list_c),len(clasificador(positivas,neutras,negativas,list_c)))\n",
        "print(clasificador(positivas,neutras,negativas,list_d),len(clasificador(positivas,neutras,negativas,list_d)))\n"
      ],
      "execution_count": 77,
      "outputs": [
        {
          "output_type": "stream",
          "name": "stdout",
          "text": [
            "[2, 0, 3] 3\n",
            "[3, 0, 1] 3\n",
            "[3, 0, 0] 3\n",
            "[4, 2, 0] 3\n"
          ]
        }
      ]
    }
  ]
}