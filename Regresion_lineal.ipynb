{
  "nbformat": 4,
  "nbformat_minor": 0,
  "metadata": {
    "kernelspec": {
      "display_name": "Python 3",
      "language": "python",
      "name": "python3"
    },
    "language_info": {
      "codemirror_mode": {
        "name": "ipython",
        "version": 3
      },
      "file_extension": ".py",
      "mimetype": "text/x-python",
      "name": "python",
      "nbconvert_exporter": "python",
      "pygments_lexer": "ipython3",
      "version": "3.7.3"
    },
    "colab": {
      "name": "Regresion_lineal.ipynb",
      "provenance": [],
      "include_colab_link": true
    }
  },
  "cells": [
    {
      "cell_type": "markdown",
      "metadata": {
        "id": "view-in-github",
        "colab_type": "text"
      },
      "source": [
        "<a href=\"https://colab.research.google.com/github/Mgobeaalcoba/proyectos_platzi/blob/main/Regresion_lineal.ipynb\" target=\"_parent\"><img src=\"https://colab.research.google.com/assets/colab-badge.svg\" alt=\"Open In Colab\"/></a>"
      ]
    },
    {
      "cell_type": "markdown",
      "metadata": {
        "id": "Q1kiGN2SzDti"
      },
      "source": [
        "# 7. Regresión lineal"
      ]
    },
    {
      "cell_type": "markdown",
      "metadata": {
        "id": "NDV_G3DzzDuR"
      },
      "source": [
        "Usaremos la función afín:\n",
        "\n",
        "$$\n",
        "\\hat{y} = \\mathbf{x}^{T}\\boldsymbol{\\beta} + v\n",
        "$$\n",
        "\n",
        "Esta función es llamada un **modelo de regresión**. En este caso las entradas de $\\mathbf{x}$ son llamadas *regresores* y a $\\hat{y}$ se le llama *predicción*. Hay que notar que la regresión es un modelo, nos estamos aproximando a estimar nuestra variable dependiente $y$, algunas veces llamada también *label*, *etiqueta* o *resultado esperado*. "
      ]
    },
    {
      "cell_type": "markdown",
      "metadata": {
        "id": "NbvZ0frtzDuT"
      },
      "source": [
        "Al vector $\\mathbf{\\beta}$ se le denomina el *vector de pesos* mientras que el escalar $v$ es llamado el offset o bias. En conjunto $v$ y $\\beta$ son los parámetros de la regresión. Recordamos que la notación $\\hat{y}$ es usando para enfatizar que es un estimado o prediccción del resultado esperado $y$. "
      ]
    },
    {
      "cell_type": "markdown",
      "metadata": {
        "id": "Wmt4G17kzDuT"
      },
      "source": [
        "## 7.1 Notación simplificada de un modelo de regresión. "
      ]
    },
    {
      "cell_type": "markdown",
      "metadata": {
        "id": "cGtLWVaezDuU"
      },
      "source": [
        "La concatenación de vectores nos puede ayudar a expresar de manera más sencilla la ecuación de regresión. Notemos que podemos definir el $(n+1)$-vector $\\boldsymbol{\\tilde{\\beta}}^{T} = [v\\; \\boldsymbol{\\beta}]$ y de igual forma el $(n+1)$-vector $\\mathbf{\\widetilde{x}}^{T} = [1 \\; \\boldsymbol{x}]$ de manera que:\n",
        "\n",
        "$$\n",
        "\\hat{y} = \\mathbf{x}^{T}\\boldsymbol{\\beta} + v = \\begin{bmatrix}1\\\\ \\mathbf{x}\\end{bmatrix}^{T} \\begin{bmatrix} v\\\\\\boldsymbol{\\beta}  \\end{bmatrix} = \\mathbf{\\widetilde{x}}^{T} \\boldsymbol{\\widetilde{\\beta}}\n",
        "$$\n",
        "\n",
        "Por simplicidad algunas veces solamente se escribe $\\hat{y}=\\mathbf{x}^{T}\\boldsymbol{\\beta}$ sobreentendiendo nuestra construcción. "
      ]
    },
    {
      "cell_type": "markdown",
      "metadata": {
        "id": "uUSvWstAzDuV"
      },
      "source": [
        "## 7.2 Un ejemplo de regresión. "
      ]
    },
    {
      "cell_type": "markdown",
      "metadata": {
        "id": "nlM0XXMQzDuV"
      },
      "source": [
        "Vamos a considerar el siguiente ejemplo donde vamos a analizar una base de datos del *GOLDEN OAK RESEARCH GROUP*. Nuestra variable dependiente serán el ingreso promedio por casa y nuestros regresores serán simplemente la latitud y la longitud. \n",
        "\n",
        "Para poder cargar la base vamos a importar en conjunto a numpy también **pandas** la cual es una biblioteca de manejo y manipulación de bases de datos tomando como bases sus objetos *dataframe*. "
      ]
    },
    {
      "cell_type": "code",
      "metadata": {
        "id": "qzIyC6IAzDuW"
      },
      "source": [
        "import matplotlib.pyplot as plt # Para poder realizar visualizaciones\n",
        "import pandas as pd # Para poder acceder a pandas\n",
        "import numpy as np # Para poder tener vectores"
      ],
      "execution_count": 1,
      "outputs": []
    },
    {
      "cell_type": "code",
      "metadata": {
        "id": "A5Uwf6YHzDuX"
      },
      "source": [
        "df = pd.read_csv('income_db_gorg.csv')"
      ],
      "execution_count": 3,
      "outputs": []
    },
    {
      "cell_type": "code",
      "metadata": {
        "id": "7QlfFkSWzDuY",
        "colab": {
          "base_uri": "https://localhost:8080/",
          "height": 206
        },
        "outputId": "3c455bd3-607c-4a21-e524-7ad7f8af1691"
      },
      "source": [
        "df.head()"
      ],
      "execution_count": 4,
      "outputs": [
        {
          "output_type": "execute_result",
          "data": {
            "text/html": [
              "<div>\n",
              "<style scoped>\n",
              "    .dataframe tbody tr th:only-of-type {\n",
              "        vertical-align: middle;\n",
              "    }\n",
              "\n",
              "    .dataframe tbody tr th {\n",
              "        vertical-align: top;\n",
              "    }\n",
              "\n",
              "    .dataframe thead th {\n",
              "        text-align: right;\n",
              "    }\n",
              "</style>\n",
              "<table border=\"1\" class=\"dataframe\">\n",
              "  <thead>\n",
              "    <tr style=\"text-align: right;\">\n",
              "      <th></th>\n",
              "      <th>id</th>\n",
              "      <th>State_Code</th>\n",
              "      <th>State_Name</th>\n",
              "      <th>State_ab</th>\n",
              "      <th>County</th>\n",
              "      <th>City</th>\n",
              "      <th>Place</th>\n",
              "      <th>Type</th>\n",
              "      <th>Primary</th>\n",
              "      <th>Zip_Code</th>\n",
              "      <th>Area_Code</th>\n",
              "      <th>ALand</th>\n",
              "      <th>AWater</th>\n",
              "      <th>Lat</th>\n",
              "      <th>Lon</th>\n",
              "      <th>Mean</th>\n",
              "      <th>Median</th>\n",
              "      <th>Stdev</th>\n",
              "      <th>sum_w</th>\n",
              "    </tr>\n",
              "  </thead>\n",
              "  <tbody>\n",
              "    <tr>\n",
              "      <th>0</th>\n",
              "      <td>1011000</td>\n",
              "      <td>1</td>\n",
              "      <td>Alabama</td>\n",
              "      <td>AL</td>\n",
              "      <td>Mobile County</td>\n",
              "      <td>Chickasaw</td>\n",
              "      <td>Chickasaw city</td>\n",
              "      <td>City</td>\n",
              "      <td>place</td>\n",
              "      <td>36611</td>\n",
              "      <td>251</td>\n",
              "      <td>10894952</td>\n",
              "      <td>909156</td>\n",
              "      <td>30.771450</td>\n",
              "      <td>-88.079697</td>\n",
              "      <td>38773</td>\n",
              "      <td>30506</td>\n",
              "      <td>33101</td>\n",
              "      <td>1638.260513</td>\n",
              "    </tr>\n",
              "    <tr>\n",
              "      <th>1</th>\n",
              "      <td>1011010</td>\n",
              "      <td>1</td>\n",
              "      <td>Alabama</td>\n",
              "      <td>AL</td>\n",
              "      <td>Barbour County</td>\n",
              "      <td>Louisville</td>\n",
              "      <td>Clio city</td>\n",
              "      <td>City</td>\n",
              "      <td>place</td>\n",
              "      <td>36048</td>\n",
              "      <td>334</td>\n",
              "      <td>26070325</td>\n",
              "      <td>23254</td>\n",
              "      <td>31.708516</td>\n",
              "      <td>-85.611039</td>\n",
              "      <td>37725</td>\n",
              "      <td>19528</td>\n",
              "      <td>43789</td>\n",
              "      <td>258.017685</td>\n",
              "    </tr>\n",
              "    <tr>\n",
              "      <th>2</th>\n",
              "      <td>1011020</td>\n",
              "      <td>1</td>\n",
              "      <td>Alabama</td>\n",
              "      <td>AL</td>\n",
              "      <td>Shelby County</td>\n",
              "      <td>Columbiana</td>\n",
              "      <td>Columbiana city</td>\n",
              "      <td>City</td>\n",
              "      <td>place</td>\n",
              "      <td>35051</td>\n",
              "      <td>205</td>\n",
              "      <td>44835274</td>\n",
              "      <td>261034</td>\n",
              "      <td>33.191452</td>\n",
              "      <td>-86.615618</td>\n",
              "      <td>54606</td>\n",
              "      <td>31930</td>\n",
              "      <td>57348</td>\n",
              "      <td>926.031000</td>\n",
              "    </tr>\n",
              "    <tr>\n",
              "      <th>3</th>\n",
              "      <td>1011030</td>\n",
              "      <td>1</td>\n",
              "      <td>Alabama</td>\n",
              "      <td>AL</td>\n",
              "      <td>Mobile County</td>\n",
              "      <td>Satsuma</td>\n",
              "      <td>Creola city</td>\n",
              "      <td>City</td>\n",
              "      <td>place</td>\n",
              "      <td>36572</td>\n",
              "      <td>251</td>\n",
              "      <td>36878729</td>\n",
              "      <td>2374530</td>\n",
              "      <td>30.874343</td>\n",
              "      <td>-88.009442</td>\n",
              "      <td>63919</td>\n",
              "      <td>52814</td>\n",
              "      <td>47707</td>\n",
              "      <td>378.114619</td>\n",
              "    </tr>\n",
              "    <tr>\n",
              "      <th>4</th>\n",
              "      <td>1011040</td>\n",
              "      <td>1</td>\n",
              "      <td>Alabama</td>\n",
              "      <td>AL</td>\n",
              "      <td>Mobile County</td>\n",
              "      <td>Dauphin Island</td>\n",
              "      <td>Dauphin Island</td>\n",
              "      <td>Town</td>\n",
              "      <td>place</td>\n",
              "      <td>36528</td>\n",
              "      <td>251</td>\n",
              "      <td>16204185</td>\n",
              "      <td>413605152</td>\n",
              "      <td>30.250913</td>\n",
              "      <td>-88.171268</td>\n",
              "      <td>77948</td>\n",
              "      <td>67225</td>\n",
              "      <td>54270</td>\n",
              "      <td>282.320328</td>\n",
              "    </tr>\n",
              "  </tbody>\n",
              "</table>\n",
              "</div>"
            ],
            "text/plain": [
              "        id  State_Code State_Name State_ab  ...   Mean Median  Stdev        sum_w\n",
              "0  1011000           1    Alabama       AL  ...  38773  30506  33101  1638.260513\n",
              "1  1011010           1    Alabama       AL  ...  37725  19528  43789   258.017685\n",
              "2  1011020           1    Alabama       AL  ...  54606  31930  57348   926.031000\n",
              "3  1011030           1    Alabama       AL  ...  63919  52814  47707   378.114619\n",
              "4  1011040           1    Alabama       AL  ...  77948  67225  54270   282.320328\n",
              "\n",
              "[5 rows x 19 columns]"
            ]
          },
          "metadata": {},
          "execution_count": 4
        }
      ]
    },
    {
      "cell_type": "code",
      "metadata": {
        "colab": {
          "base_uri": "https://localhost:8080/",
          "height": 206
        },
        "id": "6qq6u38CnVBF",
        "outputId": "69375605-3b4c-4d55-ddd1-d55dcfe9fdea"
      },
      "source": [
        "df.tail()"
      ],
      "execution_count": 5,
      "outputs": [
        {
          "output_type": "execute_result",
          "data": {
            "text/html": [
              "<div>\n",
              "<style scoped>\n",
              "    .dataframe tbody tr th:only-of-type {\n",
              "        vertical-align: middle;\n",
              "    }\n",
              "\n",
              "    .dataframe tbody tr th {\n",
              "        vertical-align: top;\n",
              "    }\n",
              "\n",
              "    .dataframe thead th {\n",
              "        text-align: right;\n",
              "    }\n",
              "</style>\n",
              "<table border=\"1\" class=\"dataframe\">\n",
              "  <thead>\n",
              "    <tr style=\"text-align: right;\">\n",
              "      <th></th>\n",
              "      <th>id</th>\n",
              "      <th>State_Code</th>\n",
              "      <th>State_Name</th>\n",
              "      <th>State_ab</th>\n",
              "      <th>County</th>\n",
              "      <th>City</th>\n",
              "      <th>Place</th>\n",
              "      <th>Type</th>\n",
              "      <th>Primary</th>\n",
              "      <th>Zip_Code</th>\n",
              "      <th>Area_Code</th>\n",
              "      <th>ALand</th>\n",
              "      <th>AWater</th>\n",
              "      <th>Lat</th>\n",
              "      <th>Lon</th>\n",
              "      <th>Mean</th>\n",
              "      <th>Median</th>\n",
              "      <th>Stdev</th>\n",
              "      <th>sum_w</th>\n",
              "    </tr>\n",
              "  </thead>\n",
              "  <tbody>\n",
              "    <tr>\n",
              "      <th>32521</th>\n",
              "      <td>720296</td>\n",
              "      <td>72</td>\n",
              "      <td>Puerto Rico</td>\n",
              "      <td>PR</td>\n",
              "      <td>Adjuntas Municipio</td>\n",
              "      <td>Guaynabo</td>\n",
              "      <td>Adjuntas</td>\n",
              "      <td>Track</td>\n",
              "      <td>Track</td>\n",
              "      <td>970</td>\n",
              "      <td>787</td>\n",
              "      <td>589417</td>\n",
              "      <td>1691</td>\n",
              "      <td>18.397925</td>\n",
              "      <td>-66.130633</td>\n",
              "      <td>30649</td>\n",
              "      <td>13729</td>\n",
              "      <td>37977</td>\n",
              "      <td>1321.278082</td>\n",
              "    </tr>\n",
              "    <tr>\n",
              "      <th>32522</th>\n",
              "      <td>7202966</td>\n",
              "      <td>72</td>\n",
              "      <td>Puerto Rico</td>\n",
              "      <td>PR</td>\n",
              "      <td>Adjuntas Municipio</td>\n",
              "      <td>Aguada</td>\n",
              "      <td>Adjuntas</td>\n",
              "      <td>Track</td>\n",
              "      <td>Track</td>\n",
              "      <td>602</td>\n",
              "      <td>787</td>\n",
              "      <td>1801613</td>\n",
              "      <td>795887</td>\n",
              "      <td>18.385424</td>\n",
              "      <td>-67.203310</td>\n",
              "      <td>15520</td>\n",
              "      <td>9923</td>\n",
              "      <td>15541</td>\n",
              "      <td>238.813450</td>\n",
              "    </tr>\n",
              "    <tr>\n",
              "      <th>32523</th>\n",
              "      <td>7202976</td>\n",
              "      <td>72</td>\n",
              "      <td>Puerto Rico</td>\n",
              "      <td>PR</td>\n",
              "      <td>Adjuntas Municipio</td>\n",
              "      <td>Aguada</td>\n",
              "      <td>Adjuntas</td>\n",
              "      <td>Track</td>\n",
              "      <td>Track</td>\n",
              "      <td>602</td>\n",
              "      <td>787</td>\n",
              "      <td>11031227</td>\n",
              "      <td>0</td>\n",
              "      <td>18.356565</td>\n",
              "      <td>-67.180686</td>\n",
              "      <td>41933</td>\n",
              "      <td>34054</td>\n",
              "      <td>31539</td>\n",
              "      <td>313.551070</td>\n",
              "    </tr>\n",
              "    <tr>\n",
              "      <th>32524</th>\n",
              "      <td>7202986</td>\n",
              "      <td>72</td>\n",
              "      <td>Puerto Rico</td>\n",
              "      <td>PR</td>\n",
              "      <td>Adjuntas Municipio</td>\n",
              "      <td>Aguada</td>\n",
              "      <td>Adjuntas</td>\n",
              "      <td>Track</td>\n",
              "      <td>Track</td>\n",
              "      <td>602</td>\n",
              "      <td>787</td>\n",
              "      <td>0</td>\n",
              "      <td>33597561</td>\n",
              "      <td>18.412041</td>\n",
              "      <td>-67.213413</td>\n",
              "      <td>0</td>\n",
              "      <td>0</td>\n",
              "      <td>0</td>\n",
              "      <td>0.000000</td>\n",
              "    </tr>\n",
              "    <tr>\n",
              "      <th>32525</th>\n",
              "      <td>7202996</td>\n",
              "      <td>72</td>\n",
              "      <td>Puerto Rico</td>\n",
              "      <td>PR</td>\n",
              "      <td>Adjuntas Municipio</td>\n",
              "      <td>Aguadilla</td>\n",
              "      <td>Adjuntas</td>\n",
              "      <td>Track</td>\n",
              "      <td>Track</td>\n",
              "      <td>603</td>\n",
              "      <td>787</td>\n",
              "      <td>6476604</td>\n",
              "      <td>2717115</td>\n",
              "      <td>18.478094</td>\n",
              "      <td>-67.160453</td>\n",
              "      <td>28049</td>\n",
              "      <td>20229</td>\n",
              "      <td>33333</td>\n",
              "      <td>512.884803</td>\n",
              "    </tr>\n",
              "  </tbody>\n",
              "</table>\n",
              "</div>"
            ],
            "text/plain": [
              "            id  State_Code   State_Name  ... Median  Stdev        sum_w\n",
              "32521   720296          72  Puerto Rico  ...  13729  37977  1321.278082\n",
              "32522  7202966          72  Puerto Rico  ...   9923  15541   238.813450\n",
              "32523  7202976          72  Puerto Rico  ...  34054  31539   313.551070\n",
              "32524  7202986          72  Puerto Rico  ...      0      0     0.000000\n",
              "32525  7202996          72  Puerto Rico  ...  20229  33333   512.884803\n",
              "\n",
              "[5 rows x 19 columns]"
            ]
          },
          "metadata": {},
          "execution_count": 5
        }
      ]
    },
    {
      "cell_type": "markdown",
      "metadata": {
        "id": "l42CRfCIzDuZ"
      },
      "source": [
        "¿Qué data contiene la base de datos?"
      ]
    },
    {
      "cell_type": "markdown",
      "metadata": {
        "id": "he_zqR2LzDub"
      },
      "source": [
        "¿Qué tamaño tiene?"
      ]
    },
    {
      "cell_type": "code",
      "metadata": {
        "id": "qbmn-KyIzDuc",
        "colab": {
          "base_uri": "https://localhost:8080/"
        },
        "outputId": "693694ed-5943-418e-b2b5-df82b1dca056"
      },
      "source": [
        "len(df)*len(df.columns)"
      ],
      "execution_count": 7,
      "outputs": [
        {
          "output_type": "execute_result",
          "data": {
            "text/plain": [
              "617994"
            ]
          },
          "metadata": {},
          "execution_count": 7
        }
      ]
    },
    {
      "cell_type": "code",
      "metadata": {
        "id": "sLYRLvLzzDuc",
        "colab": {
          "base_uri": "https://localhost:8080/"
        },
        "outputId": "5382f778-2fca-41e4-f34c-abc8ed2964c1"
      },
      "source": [
        "len(df)"
      ],
      "execution_count": 8,
      "outputs": [
        {
          "output_type": "execute_result",
          "data": {
            "text/plain": [
              "32526"
            ]
          },
          "metadata": {},
          "execution_count": 8
        }
      ]
    },
    {
      "cell_type": "code",
      "metadata": {
        "colab": {
          "base_uri": "https://localhost:8080/"
        },
        "id": "ezPXGc2OnpXf",
        "outputId": "0b612f3d-deba-4bd6-c31c-1e0a6795a7f7"
      },
      "source": [
        "len(df.columns)"
      ],
      "execution_count": 10,
      "outputs": [
        {
          "output_type": "execute_result",
          "data": {
            "text/plain": [
              "19"
            ]
          },
          "metadata": {},
          "execution_count": 10
        }
      ]
    },
    {
      "cell_type": "code",
      "metadata": {
        "colab": {
          "base_uri": "https://localhost:8080/"
        },
        "id": "q-Xz4LH4nhht",
        "outputId": "7c43e1be-567f-4596-ee5e-3c0916ad8d40"
      },
      "source": [
        "df.columns"
      ],
      "execution_count": 9,
      "outputs": [
        {
          "output_type": "execute_result",
          "data": {
            "text/plain": [
              "Index(['id', 'State_Code', 'State_Name', 'State_ab', 'County', 'City', 'Place',\n",
              "       'Type', 'Primary', 'Zip_Code', 'Area_Code', 'ALand', 'AWater', 'Lat',\n",
              "       'Lon', 'Mean', 'Median', 'Stdev', 'sum_w'],\n",
              "      dtype='object')"
            ]
          },
          "metadata": {},
          "execution_count": 9
        }
      ]
    },
    {
      "cell_type": "markdown",
      "metadata": {
        "id": "dLi7Xe4rn6aH"
      },
      "source": [
        "Cada columna la podemos trabajar como un vector"
      ]
    },
    {
      "cell_type": "markdown",
      "metadata": {
        "id": "UF7uJy-nzDud"
      },
      "source": [
        "Ahora bien, como comenté nuestros regresores en términos de columnas son:\n",
        "* Lat\n",
        "* Lon\n",
        "\n",
        "Mientras que nuestra variable dependiente es:\n",
        "* Mean "
      ]
    },
    {
      "cell_type": "markdown",
      "metadata": {
        "id": "i4lz79WzzDud"
      },
      "source": [
        "Ahora, calcular el vector predicciones $\\hat{y}$ ya que cada valor de Lat y Lon tendrá asociado un valor de Mean y es justo el que queremos aproximar con $\\hat{y}$. Ahora, como no forma parte de este curso ya tenemos unos parámetros dados:\n",
        "\n",
        "$$\n",
        "v = 30980.48, \\qquad \\boldsymbol{\\beta} = \\begin{bmatrix}744.83 \\\\ -83.45\\end{bmatrix}\n",
        "$$\n",
        "\n",
        "Con lo cual ya podemos realizar las predicciones $\\hat{y}_{i} = \\mathbf{x}^{T}_{i} \\boldsymbol{\\beta} + v$"
      ]
    },
    {
      "cell_type": "code",
      "metadata": {
        "id": "FLLT2Zb4zDud"
      },
      "source": [
        "def pred(x):\n",
        "    beta = np.array([744.83,-83.45])\n",
        "    v = 30980.48\n",
        "    return x@beta + v"
      ],
      "execution_count": 11,
      "outputs": []
    },
    {
      "cell_type": "code",
      "metadata": {
        "id": "OZvuIYb9pAQo",
        "outputId": "9a0a9188-fecc-4daa-bb79-d86263cbb42a",
        "colab": {
          "base_uri": "https://localhost:8080/"
        }
      },
      "source": [
        "type(df['Lat'])"
      ],
      "execution_count": 12,
      "outputs": [
        {
          "output_type": "execute_result",
          "data": {
            "text/plain": [
              "pandas.core.series.Series"
            ]
          },
          "metadata": {},
          "execution_count": 12
        }
      ]
    },
    {
      "cell_type": "markdown",
      "metadata": {
        "id": "etLeDAPWpDJF"
      },
      "source": [
        "Transformo el tipo series de pandas en un numpy arrays mediante el metodo \".values\""
      ]
    },
    {
      "cell_type": "code",
      "metadata": {
        "id": "SlUDt3kKzDue",
        "colab": {
          "base_uri": "https://localhost:8080/"
        },
        "outputId": "65d8a40b-f2b0-48b6-cd51-b195d365e988"
      },
      "source": [
        "type(df['Lat'].values)"
      ],
      "execution_count": 13,
      "outputs": [
        {
          "output_type": "execute_result",
          "data": {
            "text/plain": [
              "numpy.ndarray"
            ]
          },
          "metadata": {},
          "execution_count": 13
        }
      ]
    },
    {
      "cell_type": "markdown",
      "metadata": {
        "id": "7Lk7w5mBp9Fq"
      },
      "source": [
        "Necesito pasar como X un vector que tenga un dato de latitud y un dato de longitud. Por eso es que debo armarlo de la siguiente manera"
      ]
    },
    {
      "cell_type": "code",
      "metadata": {
        "id": "qOfCackQpsay",
        "outputId": "736111b6-5099-494d-b449-bc0cb63edab5",
        "colab": {
          "base_uri": "https://localhost:8080/",
          "height": 424
        }
      },
      "source": [
        "df[[\"Lat\",\"Lon\"]]"
      ],
      "execution_count": 15,
      "outputs": [
        {
          "output_type": "execute_result",
          "data": {
            "text/html": [
              "<div>\n",
              "<style scoped>\n",
              "    .dataframe tbody tr th:only-of-type {\n",
              "        vertical-align: middle;\n",
              "    }\n",
              "\n",
              "    .dataframe tbody tr th {\n",
              "        vertical-align: top;\n",
              "    }\n",
              "\n",
              "    .dataframe thead th {\n",
              "        text-align: right;\n",
              "    }\n",
              "</style>\n",
              "<table border=\"1\" class=\"dataframe\">\n",
              "  <thead>\n",
              "    <tr style=\"text-align: right;\">\n",
              "      <th></th>\n",
              "      <th>Lat</th>\n",
              "      <th>Lon</th>\n",
              "    </tr>\n",
              "  </thead>\n",
              "  <tbody>\n",
              "    <tr>\n",
              "      <th>0</th>\n",
              "      <td>30.771450</td>\n",
              "      <td>-88.079697</td>\n",
              "    </tr>\n",
              "    <tr>\n",
              "      <th>1</th>\n",
              "      <td>31.708516</td>\n",
              "      <td>-85.611039</td>\n",
              "    </tr>\n",
              "    <tr>\n",
              "      <th>2</th>\n",
              "      <td>33.191452</td>\n",
              "      <td>-86.615618</td>\n",
              "    </tr>\n",
              "    <tr>\n",
              "      <th>3</th>\n",
              "      <td>30.874343</td>\n",
              "      <td>-88.009442</td>\n",
              "    </tr>\n",
              "    <tr>\n",
              "      <th>4</th>\n",
              "      <td>30.250913</td>\n",
              "      <td>-88.171268</td>\n",
              "    </tr>\n",
              "    <tr>\n",
              "      <th>...</th>\n",
              "      <td>...</td>\n",
              "      <td>...</td>\n",
              "    </tr>\n",
              "    <tr>\n",
              "      <th>32521</th>\n",
              "      <td>18.397925</td>\n",
              "      <td>-66.130633</td>\n",
              "    </tr>\n",
              "    <tr>\n",
              "      <th>32522</th>\n",
              "      <td>18.385424</td>\n",
              "      <td>-67.203310</td>\n",
              "    </tr>\n",
              "    <tr>\n",
              "      <th>32523</th>\n",
              "      <td>18.356565</td>\n",
              "      <td>-67.180686</td>\n",
              "    </tr>\n",
              "    <tr>\n",
              "      <th>32524</th>\n",
              "      <td>18.412041</td>\n",
              "      <td>-67.213413</td>\n",
              "    </tr>\n",
              "    <tr>\n",
              "      <th>32525</th>\n",
              "      <td>18.478094</td>\n",
              "      <td>-67.160453</td>\n",
              "    </tr>\n",
              "  </tbody>\n",
              "</table>\n",
              "<p>32526 rows × 2 columns</p>\n",
              "</div>"
            ],
            "text/plain": [
              "             Lat        Lon\n",
              "0      30.771450 -88.079697\n",
              "1      31.708516 -85.611039\n",
              "2      33.191452 -86.615618\n",
              "3      30.874343 -88.009442\n",
              "4      30.250913 -88.171268\n",
              "...          ...        ...\n",
              "32521  18.397925 -66.130633\n",
              "32522  18.385424 -67.203310\n",
              "32523  18.356565 -67.180686\n",
              "32524  18.412041 -67.213413\n",
              "32525  18.478094 -67.160453\n",
              "\n",
              "[32526 rows x 2 columns]"
            ]
          },
          "metadata": {},
          "execution_count": 15
        }
      ]
    },
    {
      "cell_type": "code",
      "metadata": {
        "id": "VTvJeHakp0-e",
        "outputId": "ccf349d6-9421-421e-ae08-913fe6f5bb5e",
        "colab": {
          "base_uri": "https://localhost:8080/"
        }
      },
      "source": [
        "type(df[[\"Lat\",\"Lon\"]]) # Veo que es un data frame completo"
      ],
      "execution_count": 16,
      "outputs": [
        {
          "output_type": "execute_result",
          "data": {
            "text/plain": [
              "pandas.core.frame.DataFrame"
            ]
          },
          "metadata": {},
          "execution_count": 16
        }
      ]
    },
    {
      "cell_type": "markdown",
      "metadata": {
        "id": "V91sWPRPqGnU"
      },
      "source": [
        "No me sirve. Debo transformarlo en un array de numpy"
      ]
    },
    {
      "cell_type": "code",
      "metadata": {
        "id": "1KqRjTELqLj3",
        "outputId": "7d3a0a17-45b2-4af4-85c9-4248a2437e89",
        "colab": {
          "base_uri": "https://localhost:8080/"
        }
      },
      "source": [
        "df[['Lat','Lon']].values"
      ],
      "execution_count": 17,
      "outputs": [
        {
          "output_type": "execute_result",
          "data": {
            "text/plain": [
              "array([[ 30.77145  , -88.079697 ],\n",
              "       [ 31.708516 , -85.611039 ],\n",
              "       [ 33.191452 , -86.615618 ],\n",
              "       ...,\n",
              "       [ 18.3565654, -67.180686 ],\n",
              "       [ 18.4120413, -67.2134127],\n",
              "       [ 18.4780938, -67.1604529]])"
            ]
          },
          "metadata": {},
          "execution_count": 17
        }
      ]
    },
    {
      "cell_type": "code",
      "metadata": {
        "id": "_pi6HEf1qN6H",
        "outputId": "cfbf58df-04a2-4f58-d379-a19ccaed277f",
        "colab": {
          "base_uri": "https://localhost:8080/"
        }
      },
      "source": [
        "type(df[['Lat','Lon']].values)"
      ],
      "execution_count": 18,
      "outputs": [
        {
          "output_type": "execute_result",
          "data": {
            "text/plain": [
              "numpy.ndarray"
            ]
          },
          "metadata": {},
          "execution_count": 18
        }
      ]
    },
    {
      "cell_type": "markdown",
      "metadata": {
        "id": "OhcmojnrqQ4g"
      },
      "source": [
        "Perfecto. Entonces voy a guardar el vector armado en un variable X"
      ]
    },
    {
      "cell_type": "code",
      "metadata": {
        "id": "mNDhN-y0zDue"
      },
      "source": [
        "X = df[['Lat','Lon']].values"
      ],
      "execution_count": 19,
      "outputs": []
    },
    {
      "cell_type": "code",
      "metadata": {
        "id": "cSrwl98CzDue",
        "colab": {
          "base_uri": "https://localhost:8080/"
        },
        "outputId": "a6eeba6c-f1e4-4234-f7b5-54ad3de1b596"
      },
      "source": [
        "Y_hat = pred(X) # hat de \"ye gorrito\" en ingles\n",
        "Y_hat"
      ],
      "execution_count": 27,
      "outputs": [
        {
          "output_type": "execute_result",
          "data": {
            "text/plain": [
              "array([61250.22981815, 61742.17517683, 62930.54251526, ...,\n",
              "       50259.22885358, 50303.28001129, 50348.05839956])"
            ]
          },
          "metadata": {},
          "execution_count": 27
        }
      ]
    },
    {
      "cell_type": "code",
      "metadata": {
        "id": "XVuPDbQDqyzT",
        "outputId": "7ad5afbb-7207-4e88-fd33-48972f4c8a72",
        "colab": {
          "base_uri": "https://localhost:8080/"
        }
      },
      "source": [
        "type(Y_hat)"
      ],
      "execution_count": 31,
      "outputs": [
        {
          "output_type": "execute_result",
          "data": {
            "text/plain": [
              "numpy.ndarray"
            ]
          },
          "metadata": {},
          "execution_count": 31
        }
      ]
    },
    {
      "cell_type": "code",
      "metadata": {
        "id": "zToph6dAq13Z",
        "outputId": "33c2be40-42e7-4c86-f29d-0e68deff3f8f",
        "colab": {
          "base_uri": "https://localhost:8080/"
        }
      },
      "source": [
        "len(Y_hat)"
      ],
      "execution_count": 23,
      "outputs": [
        {
          "output_type": "execute_result",
          "data": {
            "text/plain": [
              "32526"
            ]
          },
          "metadata": {},
          "execution_count": 23
        }
      ]
    },
    {
      "cell_type": "code",
      "metadata": {
        "id": "eL_Ix6Wlq3Kz",
        "outputId": "8f5eacf7-ee2b-417a-a05b-c9baca687c03",
        "colab": {
          "base_uri": "https://localhost:8080/"
        }
      },
      "source": [
        "len(X)"
      ],
      "execution_count": 24,
      "outputs": [
        {
          "output_type": "execute_result",
          "data": {
            "text/plain": [
              "32526"
            ]
          },
          "metadata": {},
          "execution_count": 24
        }
      ]
    },
    {
      "cell_type": "markdown",
      "metadata": {
        "id": "LnzZHvf4q46F"
      },
      "source": [
        "Se corresponden 1 a 1 X y Y_hat"
      ]
    },
    {
      "cell_type": "code",
      "metadata": {
        "id": "kWM0wkuBzDue",
        "colab": {
          "base_uri": "https://localhost:8080/"
        },
        "outputId": "8fe5ecd5-a3a8-4396-8472-7b68bf3a8840"
      },
      "source": [
        "Y = df['Mean'].values\n",
        "Y"
      ],
      "execution_count": 25,
      "outputs": [
        {
          "output_type": "execute_result",
          "data": {
            "text/plain": [
              "array([38773, 37725, 54606, ..., 41933,     0, 28049])"
            ]
          },
          "metadata": {},
          "execution_count": 25
        }
      ]
    },
    {
      "cell_type": "code",
      "metadata": {
        "id": "vKyYXjGUzDuf",
        "colab": {
          "base_uri": "https://localhost:8080/",
          "height": 704
        },
        "outputId": "548168d9-51f7-488d-8352-e0ba16f6d072"
      },
      "source": [
        "fig, ax = plt.subplots(1,1,figsize=(7,7),dpi=120)\n",
        "\n",
        "ax.scatter(Y_hat,Y,marker ='o',color='red')\n",
        "ax.plot(Y,Y,ls='--') # Y, Y es el mejor de los escenarios. Los puntos deberían estar cerca de la recta\n",
        "# Como no sucede entonces debemos reentrenar el modelo. \n",
        "plt.show()"
      ],
      "execution_count": 28,
      "outputs": [
        {
          "output_type": "display_data",
          "data": {
            "image/png": "[encoded data removed]",
            "text/plain": [
              "<Figure size 840x840 with 1 Axes>"
            ]
          },
          "metadata": {
            "needs_background": "light"
          }
        }
      ]
    },
    {
      "cell_type": "markdown",
      "metadata": {
        "id": "HzLVXmIazDuf"
      },
      "source": [
        "¿Cómo calculamos el error?"
      ]
    },
    {
      "cell_type": "markdown",
      "metadata": {
        "id": "2y7gsfjLzDuf"
      },
      "source": [
        "## 7.3 Ejercicio. \n",
        "\n",
        "Considera que ya no solamente usamos Lat y Lon como regresores sino también comenzamos a usar Zip_Code como regresor, ajustar ese modelo nos deja con los siguientes parámetros:\n",
        "$$\n",
        "v = 4152.02, \\qquad \\boldsymbol{\\beta} = \\begin{bmatrix}6.55490348e+02 \\\\ 5.75918372e+02 \\\\ -2.94216316e-01\\end{bmatrix}\n",
        "$$\n",
        "\n",
        "¿Mejora la preducción al introducir un nuevo regresor?"
      ]
    },
    {
      "cell_type": "code",
      "metadata": {
        "id": "4n0AahpfsIfQ",
        "outputId": "917e507b-5608-4d3c-b2f3-7b645258e406",
        "colab": {
          "base_uri": "https://localhost:8080/"
        }
      },
      "source": [
        "X = df[['Lat','Lon',\"Zip_Code\"]].values\n",
        "X"
      ],
      "execution_count": 45,
      "outputs": [
        {
          "output_type": "execute_result",
          "data": {
            "text/plain": [
              "array([[ 3.07714500e+01, -8.80796970e+01,  3.66110000e+04],\n",
              "       [ 3.17085160e+01, -8.56110390e+01,  3.60480000e+04],\n",
              "       [ 3.31914520e+01, -8.66156180e+01,  3.50510000e+04],\n",
              "       ...,\n",
              "       [ 1.83565654e+01, -6.71806860e+01,  6.02000000e+02],\n",
              "       [ 1.84120413e+01, -6.72134127e+01,  6.02000000e+02],\n",
              "       [ 1.84780938e+01, -6.71604529e+01,  6.03000000e+02]])"
            ]
          },
          "metadata": {},
          "execution_count": 45
        }
      ]
    },
    {
      "cell_type": "code",
      "metadata": {
        "id": "WoVOIwCCssHb"
      },
      "source": [
        "def pred(x):\n",
        "    beta = np.array([6.55490348*pow(10,2),5.75918372*pow(10,2),-2.94216316*pow(10,-1)])\n",
        "    v = 4152.02\n",
        "    return x@beta + v"
      ],
      "execution_count": 46,
      "outputs": []
    },
    {
      "cell_type": "code",
      "metadata": {
        "id": "VCIOVR1PsIhx",
        "outputId": "3ccd5694-6777-4752-fbc0-74b612a4b261",
        "colab": {
          "base_uri": "https://localhost:8080/"
        }
      },
      "source": [
        "Y_hat = pred(X) \n",
        "Y_hat"
      ],
      "execution_count": 47,
      "outputs": [
        {
          "output_type": "execute_result",
          "data": {
            "text/plain": [
              "array([-37175.8607786 , -34974.23377787, -34287.40537834, ...,\n",
              "       -22683.13809106, -22665.62208185, -22592.11900016])"
            ]
          },
          "metadata": {},
          "execution_count": 47
        }
      ]
    },
    {
      "cell_type": "code",
      "metadata": {
        "id": "CtBRIJMWsIkv",
        "outputId": "edadb33c-bee6-488f-a11e-ac06b97c2a77",
        "colab": {
          "base_uri": "https://localhost:8080/"
        }
      },
      "source": [
        "Y = df['Mean'].values\n",
        "Y"
      ],
      "execution_count": 48,
      "outputs": [
        {
          "output_type": "execute_result",
          "data": {
            "text/plain": [
              "array([38773, 37725, 54606, ..., 41933,     0, 28049])"
            ]
          },
          "metadata": {},
          "execution_count": 48
        }
      ]
    },
    {
      "cell_type": "code",
      "metadata": {
        "id": "RpOACh5EsInZ",
        "outputId": "00afa631-b06d-4b35-cefb-63fd4d2ef039",
        "colab": {
          "base_uri": "https://localhost:8080/",
          "height": 704
        }
      },
      "source": [
        "fig, ax = plt.subplots(1,1,figsize=(7,7),dpi=120)\n",
        "\n",
        "ax.scatter(Y_hat,Y,marker ='o',color='red')\n",
        "ax.plot(Y,Y,ls='--') # Y, Y es el mejor de los escenarios. Los puntos deberían estar cerca de la recta\n",
        "plt.show()"
      ],
      "execution_count": 49,
      "outputs": [
        {
          "output_type": "display_data",
          "data": {
            "image/png": "[encoded data removed]",
            "text/plain": [
              "<Figure size 840x840 with 1 Axes>"
            ]
          },
          "metadata": {
            "needs_background": "light"
          }
        }
      ]
    },
    {
      "cell_type": "markdown",
      "metadata": {
        "id": "nOJc5AEYuEjR"
      },
      "source": [
        "¿Mejoró la predicción al introducir un nuevo predictor? En este caso Zip Code? \n",
        "En absoluto. El modelo es aún peor. "
      ]
    }
  ]
}