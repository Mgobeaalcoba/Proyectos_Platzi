{
  "nbformat": 4,
  "nbformat_minor": 0,
  "metadata": {
    "kernelspec": {
      "display_name": "Python 3",
      "language": "python",
      "name": "python3"
    },
    "language_info": {
      "codemirror_mode": {
        "name": "ipython",
        "version": 3
      },
      "file_extension": ".py",
      "mimetype": "text/x-python",
      "name": "python",
      "nbconvert_exporter": "python",
      "pygments_lexer": "ipython3",
      "version": "3.7.3"
    },
    "colab": {
      "name": "Ejercicios de Funciones Lineales.ipynb",
      "provenance": [],
      "collapsed_sections": [],
      "include_colab_link": true
    }
  },
  "cells": [
    {
      "cell_type": "markdown",
      "metadata": {
        "id": "view-in-github",
        "colab_type": "text"
      },
      "source": [
        "<a href=\"https://colab.research.google.com/github/Mgobeaalcoba/proyectos_platzi/blob/main/Ejercicios_de_Funciones_Lineales.ipynb\" target=\"_parent\"><img src=\"https://colab.research.google.com/assets/colab-badge.svg\" alt=\"Open In Colab\"/></a>"
      ]
    },
    {
      "cell_type": "markdown",
      "metadata": {
        "id": "C9lrgQMBO40M"
      },
      "source": [
        "# Ejercicios de Funciones Lineales Resueltos\n"
      ]
    },
    {
      "cell_type": "code",
      "metadata": {
        "id": "kMrOvi3QO40T"
      },
      "source": [
        "import numpy as np"
      ],
      "execution_count": 1,
      "outputs": []
    },
    {
      "cell_type": "markdown",
      "metadata": {
        "id": "EZCHXVMDO40c"
      },
      "source": [
        "**Ejercicio.** Determina si las siguientes funciones son lineales o no:\n",
        "\n",
        "* $ g(\\mathbf{x}) = x_{0}$\n",
        "\n",
        "* $f2(\\mathbf{x}) = x_{n-1} - x_{0}$\n",
        "\n",
        "* Si $\\mathbf{x}\\in\\mathbb{R}^{4}$ y $f:\\mathbb{R}^{4} \\to \\mathbb{R}$ definida como $f3(\\mathbf{x})=x_{3}+(x_{3}-x_{2})$\n",
        "\n"
      ]
    },
    {
      "cell_type": "markdown",
      "metadata": {
        "id": "tQ8GztO6kbnb"
      },
      "source": [
        "\n",
        "Si la función $g$ cumple que $g(\\alpha\\mathbf{x}+\\beta\\mathbf{y}) = \\alpha g(\\mathbf{x})+\\beta g(\\mathbf{y})$ decimos que la función $g$ es una **función lineal.** \n"
      ]
    },
    {
      "cell_type": "code",
      "metadata": {
        "id": "PYPa2R45O40V"
      },
      "source": [
        "def g(x):\n",
        "    return x[0]"
      ],
      "execution_count": null,
      "outputs": []
    },
    {
      "cell_type": "code",
      "metadata": {
        "id": "Pg6wCoVYkm_y",
        "colab": {
          "base_uri": "https://localhost:8080/"
        },
        "outputId": "3a0be91e-a33f-4bfd-dbd0-bd8734c5b7e5"
      },
      "source": [
        "x = np.array([2,1,0,-1])\n",
        "y = np.array([4,1,2,3])\n",
        "alfa = 2\n",
        "betha = -2\n",
        "print(g(alfa*x))\n",
        "print(g(betha*y))\n",
        "print(g(alfa*x+betha*y))\n",
        "print(alfa*g(x)+betha*g(y)) # Debe dar igual que la de arriba para comprobar que sean lineales"
      ],
      "execution_count": null,
      "outputs": [
        {
          "output_type": "stream",
          "name": "stdout",
          "text": [
            "4\n",
            "-8\n",
            "-4\n",
            "-4\n"
          ]
        }
      ]
    },
    {
      "cell_type": "code",
      "metadata": {
        "id": "DUHKyMm6ms0L"
      },
      "source": [
        "def f2(x):\n",
        "  return x[len(x)-1]-x[0]"
      ],
      "execution_count": null,
      "outputs": []
    },
    {
      "cell_type": "code",
      "metadata": {
        "id": "umNhZESwnL7M"
      },
      "source": [
        "def f3(x):\n",
        "  return x[3]+(x[3]-x[2])"
      ],
      "execution_count": null,
      "outputs": []
    },
    {
      "cell_type": "code",
      "metadata": {
        "id": "EoYzOA9onsNs"
      },
      "source": [
        "a = np.array([5,3,-2,7])\n",
        "b = np.array([6,-5,-2,9])"
      ],
      "execution_count": null,
      "outputs": []
    },
    {
      "cell_type": "code",
      "metadata": {
        "id": "BOAhZI9un4Tp",
        "colab": {
          "base_uri": "https://localhost:8080/"
        },
        "outputId": "5c398886-b936-4110-e2c5-5f5800d547ba"
      },
      "source": [
        "print(f2(a))\n",
        "print(f2(b))\n",
        "print(f3(a))\n",
        "print(f3(b))"
      ],
      "execution_count": null,
      "outputs": [
        {
          "output_type": "stream",
          "name": "stdout",
          "text": [
            "2\n",
            "3\n",
            "16\n",
            "20\n"
          ]
        }
      ]
    },
    {
      "cell_type": "code",
      "metadata": {
        "id": "MZPOcOxkohyb",
        "colab": {
          "base_uri": "https://localhost:8080/"
        },
        "outputId": "6680b9f6-c031-4d0b-e4c7-88858bada161"
      },
      "source": [
        "print(f2(alfa*a+betha*b))\n",
        "print(alfa*f2(a)+betha*f2(b)) # Debe ser igual que la de arriba para que sea una función lineal f2. Cumple con la propiedad de la superposición.\n",
        "print(f3(alfa*a+betha*b))\n",
        "print(alfa*f3(a)+betha*f3(b)) # Debe ser igual que la de arriba para que sea una función lineal f3. Cumple con la propiedad de la superposición."
      ],
      "execution_count": null,
      "outputs": [
        {
          "output_type": "stream",
          "name": "stdout",
          "text": [
            "-2\n",
            "-2\n",
            "-8\n",
            "-8\n"
          ]
        }
      ]
    },
    {
      "cell_type": "markdown",
      "metadata": {
        "id": "GFzgRfaU2onr"
      },
      "source": [
        "**Problema: Potencia en un clúster de procesadores y temperatura.** La temperatura $T$ de un cluster de tres procesadores es una función afín de la potencia de los procesadores $P^T = [P_{0}\\; P_{1}\\; P_{2}]$. Cuando los tres procesadores están en reposo tenemos que $P^T = [10\\; 10\\; 10]$ lo cual nos da una temperatura de $T=35$. Cuando el primer procesador opera a potencia absoluta tenemos que $P^T = [100\\; 10\\; 10]$ y la temperatura se eleva a $T=60$. Cuando el segundo procesador opera a su máxima capacidad tenemos $P^T = [10\\; 100\\; 10]$ y la temperatura se eleva a $T=75$. Cuando el tercer procesador opera a máxima potencia mientras que los otros dos están en reposo tenemos que $P^T = [10\\; 10\\; 100]$ y la temperatura se elevea a $T=65$. Supongamos que los tres procesadores operan a máxima potencia ¿Qué temperatura se alcanza? La temperatura de fusión de los procesadores (a la que los procesadores se derriten) es cerca de $150$ ¿Cuál es la potencia máxima que pueden alcanzar los procesadores para que $T\\le 150$?  \n",
        "*Hint:* $T(P) = a^T P + b$"
      ]
    },
    {
      "cell_type": "markdown",
      "metadata": {
        "id": "rif9PDAw2prz"
      },
      "source": [
        "Dado que sabemos que la temperatura es función afín, se puede ver de la siguiente forma:\n",
        "\n",
        "* $T(P)=a^TP+b$\n",
        "\n",
        "Dado que *P*, es un vector en $\\mathbb{R}^3$, la expresión anterior se puede ver en forma vectorial como:\n",
        "\n",
        "$$\n",
        "T(P) = [a_{0},a_{1},a_{2}] \\begin{bmatrix}P_{0}\\\\ P_{1}\\\\P_{2}\\end{bmatrix} + b = a_{0}P_{0}+a_{1}P_{1}+a_{2}P_{2} + b\n",
        "$$\n",
        "\n",
        "Notemos que el problema nos ofrece 4 soluciones para esta ecuación:\n",
        "\n",
        "* $10a_{0}+10a_{1}+10a_{2}+b=35$\n",
        "* $100a_{0}+10a_{1}+10a_{2}+b=60$\n",
        "* $10a_{0}+100a_{1}+10a_{2}+b=75$\n",
        "* $10a_{0}+10a_{1}+100a_{2}+b=65$\n",
        "\n",
        "Con los cuales debemos encontrar los valores de $a_{0},a_{1},a_{2} y b$, por lo que podemos proceder a resolverlo como un sistema de ecuaciones 4x4.\n"
      ]
    },
    {
      "cell_type": "code",
      "metadata": {
        "colab": {
          "base_uri": "https://localhost:8080/"
        },
        "id": "cop6Co3v5ixh",
        "outputId": "feb40c2b-6730-431c-8fb8-3f72a5856650"
      },
      "source": [
        "x1 = np.array([10,10,10])\n",
        "x2 = np.array([100,10,10])\n",
        "x3 = np.array([10,100,10])\n",
        "x4 = np.array([10,10,100])\n",
        "suma_x = x1+x2+x3+x4\n",
        "promedio_x = (x1+x2+x3+x4)/4\n",
        "print(suma_x)\n",
        "print(promedio_x)"
      ],
      "execution_count": 86,
      "outputs": [
        {
          "output_type": "stream",
          "name": "stdout",
          "text": [
            "[130 130 130]\n",
            "[32.5 32.5 32.5]\n"
          ]
        }
      ]
    },
    {
      "cell_type": "code",
      "metadata": {
        "colab": {
          "base_uri": "https://localhost:8080/"
        },
        "id": "ddirSAhHY4Kv",
        "outputId": "fe1a2564-eb00-45cc-ca6d-953c6ca1d070"
      },
      "source": [
        "vector = np.array([[35],[60],[75],[65]])\n",
        "vector"
      ],
      "execution_count": 115,
      "outputs": [
        {
          "output_type": "execute_result",
          "data": {
            "text/plain": [
              "array([[35],\n",
              "       [60],\n",
              "       [75],\n",
              "       [65]])"
            ]
          },
          "metadata": {},
          "execution_count": 115
        }
      ]
    },
    {
      "cell_type": "code",
      "metadata": {
        "colab": {
          "base_uri": "https://localhost:8080/"
        },
        "id": "KYYziX-LZFNg",
        "outputId": "ef1bf96c-dbcd-4583-944f-a6881e484ab1"
      },
      "source": [
        "matriz = np.array([[10,100,10,10], # Cargo los valores de cada ecuación lineal en columnas no en filas\n",
        "                   [10,10,100,10],\n",
        "                   [10,10,10,100],\n",
        "                   [1,1,1,1]])\n",
        "matriz"
      ],
      "execution_count": 170,
      "outputs": [
        {
          "output_type": "execute_result",
          "data": {
            "text/plain": [
              "array([[ 10, 100,  10,  10],\n",
              "       [ 10,  10, 100,  10],\n",
              "       [ 10,  10,  10, 100],\n",
              "       [  1,   1,   1,   1]])"
            ]
          },
          "metadata": {},
          "execution_count": 170
        }
      ]
    },
    {
      "cell_type": "code",
      "metadata": {
        "colab": {
          "base_uri": "https://localhost:8080/"
        },
        "id": "1hXjdNgKaO2F",
        "outputId": "2386bb20-938c-4313-fab9-575fc5ca439f"
      },
      "source": [
        "matriz.T"
      ],
      "execution_count": 131,
      "outputs": [
        {
          "output_type": "execute_result",
          "data": {
            "text/plain": [
              "array([[ 10,  10,  10,   1],\n",
              "       [100,  10,  10,   1],\n",
              "       [ 10, 100,  10,   1],\n",
              "       [ 10,  10, 100,   1]])"
            ]
          },
          "metadata": {},
          "execution_count": 131
        }
      ]
    },
    {
      "cell_type": "code",
      "metadata": {
        "colab": {
          "base_uri": "https://localhost:8080/"
        },
        "id": "RWVvaPYVZXjc",
        "outputId": "13480a0e-4500-4c87-dd6d-10fa6ff6e5d8"
      },
      "source": [
        "vector2 = vector.T.dot(np.linalg.inv(matriz))\n",
        "vector2"
      ],
      "execution_count": 155,
      "outputs": [
        {
          "output_type": "execute_result",
          "data": {
            "text/plain": [
              "array([[ 0.27777778,  0.44444444,  0.33333333, 24.44444444]])"
            ]
          },
          "metadata": {},
          "execution_count": 155
        }
      ]
    },
    {
      "cell_type": "code",
      "metadata": {
        "colab": {
          "base_uri": "https://localhost:8080/"
        },
        "id": "rHCYHV2OnTGT",
        "outputId": "04d68cdf-bfb6-48a5-c9d0-72ef0fc2a1d1"
      },
      "source": [
        "# Los tres primeros son los valores de a0, a1 y a2 y el ultimo es el valor de b\n",
        "a = vector2[:,:3]\n",
        "b = vector2[:,3]\n",
        "print(a)\n",
        "print(b)"
      ],
      "execution_count": 162,
      "outputs": [
        {
          "output_type": "stream",
          "name": "stdout",
          "text": [
            "[[0.27777778 0.44444444 0.33333333]]\n",
            "[24.44444444]\n"
          ]
        }
      ]
    },
    {
      "cell_type": "code",
      "metadata": {
        "colab": {
          "base_uri": "https://localhost:8080/"
        },
        "id": "YDEtDchblyoi",
        "outputId": "d21ae499-4f24-4fef-8ea8-e73ea577141c"
      },
      "source": [
        "# comprobación\n",
        "\n",
        "print(vector2.dot(matriz))\n",
        "print(vector.T) # Son iguales, por lo que encontre el valor de mis variables calculando el producto interno entre mi vector de resultado transpuesto y mi matriz invertida"
      ],
      "execution_count": 163,
      "outputs": [
        {
          "output_type": "stream",
          "name": "stdout",
          "text": [
            "[[35. 60. 75. 65.]]\n",
            "[[35 60 75 65]]\n"
          ]
        }
      ]
    },
    {
      "cell_type": "code",
      "metadata": {
        "id": "eAHR5eaUrm8Y"
      },
      "source": [
        "def T(x): # Función de temperatura\n",
        "  return a.dot(x)+b"
      ],
      "execution_count": 175,
      "outputs": []
    },
    {
      "cell_type": "code",
      "metadata": {
        "colab": {
          "base_uri": "https://localhost:8080/"
        },
        "id": "WDv1-EDVnIb6",
        "outputId": "4f5f5cc7-84ba-47f0-82c1-33d013b7454b"
      },
      "source": [
        "# funcion de temperatura\n",
        "\n",
        "tx4 = T(x4)\n",
        "tx3 = T(x3)\n",
        "tx2 = T(x2)\n",
        "tx1 = T(x1)\n",
        "print(tx1)\n",
        "print(tx2)\n",
        "print(tx3)\n",
        "print(tx4)"
      ],
      "execution_count": 177,
      "outputs": [
        {
          "output_type": "stream",
          "name": "stdout",
          "text": [
            "[35.]\n",
            "[60.]\n",
            "[75.]\n",
            "[65.]\n"
          ]
        }
      ]
    },
    {
      "cell_type": "code",
      "metadata": {
        "colab": {
          "base_uri": "https://localhost:8080/"
        },
        "id": "j_dV1QCVpAIk",
        "outputId": "00b8986a-75e5-47c9-b8cd-75c932d1677b"
      },
      "source": [
        "#Supongamos que los tres procesadores operan a máxima potencia \n",
        "#¿Qué temperatura se alcanza?\n",
        "max_temp = np.array([[100],\n",
        "                     [100],\n",
        "                     [100]])\n",
        "tmax = T(max_temp)\n",
        "print(tmax)"
      ],
      "execution_count": 178,
      "outputs": [
        {
          "output_type": "stream",
          "name": "stdout",
          "text": [
            "[[130.]]\n"
          ]
        }
      ]
    },
    {
      "cell_type": "code",
      "metadata": {
        "colab": {
          "base_uri": "https://localhost:8080/"
        },
        "id": "X2KyYL9Eprad",
        "outputId": "dacd8634-4306-418c-8ee7-6b5de6bf5397"
      },
      "source": [
        "# La temperatura de fusión de los procesadores (a la que los procesadores se derriten) \n",
        "#es cerca de 150 ¿Cuál es la potencia máxima que pueden alcanzar los procesadores para que T<=150?  \n",
        "\n",
        "#asumiendo la temperatura máxima para los 3 procesadores sea la misma, con una tolerancia de 0.01\n",
        "\n",
        "var=0.0001\n",
        "min=100.0 # Minimo de potencia\n",
        "max=150.0 # Maximo de potencia\n",
        "\n",
        "potencia_prueba = np.array([[min],\n",
        "                            [min],\n",
        "                            [min]])\n",
        "while T(potencia_prueba) < 150:\n",
        "  max_potencia = potencia_prueba\n",
        "  potencia_prueba += var\n",
        "\n",
        "print(max_potencia)\n"
      ],
      "execution_count": 182,
      "outputs": [
        {
          "output_type": "stream",
          "name": "stdout",
          "text": [
            "[[118.9474]\n",
            " [118.9474]\n",
            " [118.9474]]\n"
          ]
        }
      ]
    }
  ]
}