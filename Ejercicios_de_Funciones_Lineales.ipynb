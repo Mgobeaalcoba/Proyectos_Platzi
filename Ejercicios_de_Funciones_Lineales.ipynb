{
  "nbformat": 4,
  "nbformat_minor": 0,
  "metadata": {
    "kernelspec": {
      "display_name": "Python 3",
      "language": "python",
      "name": "python3"
    },
    "language_info": {
      "codemirror_mode": {
        "name": "ipython",
        "version": 3
      },
      "file_extension": ".py",
      "mimetype": "text/x-python",
      "name": "python",
      "nbconvert_exporter": "python",
      "pygments_lexer": "ipython3",
      "version": "3.7.3"
    },
    "colab": {
      "name": "Ejercicios de Funciones Lineales.ipynb",
      "provenance": [],
      "collapsed_sections": [],
      "include_colab_link": true
    }
  },
  "cells": [
    {
      "cell_type": "markdown",
      "metadata": {
        "id": "view-in-github",
        "colab_type": "text"
      },
      "source": [
        "<a href=\"https://colab.research.google.com/github/Mgobeaalcoba/proyectos_platzi/blob/main/Ejercicios_de_Funciones_Lineales.ipynb\" target=\"_parent\"><img src=\"https://colab.research.google.com/assets/colab-badge.svg\" alt=\"Open In Colab\"/></a>"
      ]
    },
    {
      "cell_type": "code",
      "metadata": {
        "id": "qhGlpDQ2qd2D"
      },
      "source": [
        ""
      ],
      "execution_count": null,
      "outputs": []
    },
    {
      "cell_type": "markdown",
      "metadata": {
        "id": "C9lrgQMBO40M"
      },
      "source": [
        "# Ejercicios de Funciones Lineales Resueltos\n"
      ]
    },
    {
      "cell_type": "code",
      "metadata": {
        "id": "kMrOvi3QO40T"
      },
      "source": [
        "import numpy as np"
      ],
      "execution_count": 1,
      "outputs": []
    },
    {
      "cell_type": "markdown",
      "metadata": {
        "id": "EZCHXVMDO40c"
      },
      "source": [
        "**Ejercicio.** Determina si las siguientes funciones son lineales o no:\n",
        "\n",
        "* $ g(\\mathbf{x}) = x_{0}$\n",
        "\n",
        "* $f2(\\mathbf{x}) = x_{n-1} - x_{0}$\n",
        "\n",
        "* Si $\\mathbf{x}\\in\\mathbb{R}^{4}$ y $f:\\mathbb{R}^{4} \\to \\mathbb{R}$ definida como $f3(\\mathbf{x})=x_{3}+(x_{3}-x_{2})$\n",
        "\n"
      ]
    },
    {
      "cell_type": "markdown",
      "metadata": {
        "id": "tQ8GztO6kbnb"
      },
      "source": [
        "\n",
        "Si la función $g$ cumple que $g(\\alpha\\mathbf{x}+\\beta\\mathbf{y}) = \\alpha g(\\mathbf{x})+\\beta g(\\mathbf{y})$ decimos que la función $g$ es una **función lineal.** \n"
      ]
    },
    {
      "cell_type": "code",
      "metadata": {
        "id": "PYPa2R45O40V"
      },
      "source": [
        "def g(x):\n",
        "    return x[0]"
      ],
      "execution_count": null,
      "outputs": []
    },
    {
      "cell_type": "code",
      "metadata": {
        "id": "Pg6wCoVYkm_y",
        "colab": {
          "base_uri": "https://localhost:8080/"
        },
        "outputId": "3a0be91e-a33f-4bfd-dbd0-bd8734c5b7e5"
      },
      "source": [
        "x = np.array([2,1,0,-1])\n",
        "y = np.array([4,1,2,3])\n",
        "alfa = 2\n",
        "betha = -2\n",
        "print(g(alfa*x))\n",
        "print(g(betha*y))\n",
        "print(g(alfa*x+betha*y))\n",
        "print(alfa*g(x)+betha*g(y)) # Debe dar igual que la de arriba para comprobar que sean lineales"
      ],
      "execution_count": null,
      "outputs": [
        {
          "output_type": "stream",
          "name": "stdout",
          "text": [
            "4\n",
            "-8\n",
            "-4\n",
            "-4\n"
          ]
        }
      ]
    },
    {
      "cell_type": "code",
      "metadata": {
        "id": "DUHKyMm6ms0L"
      },
      "source": [
        "def f2(x):\n",
        "  return x[len(x)-1]-x[0]"
      ],
      "execution_count": null,
      "outputs": []
    },
    {
      "cell_type": "code",
      "metadata": {
        "id": "umNhZESwnL7M"
      },
      "source": [
        "def f3(x):\n",
        "  return x[3]+(x[3]-x[2])"
      ],
      "execution_count": null,
      "outputs": []
    },
    {
      "cell_type": "code",
      "metadata": {
        "id": "EoYzOA9onsNs"
      },
      "source": [
        "a = np.array([5,3,-2,7])\n",
        "b = np.array([6,-5,-2,9])"
      ],
      "execution_count": null,
      "outputs": []
    },
    {
      "cell_type": "code",
      "metadata": {
        "id": "BOAhZI9un4Tp",
        "colab": {
          "base_uri": "https://localhost:8080/"
        },
        "outputId": "5c398886-b936-4110-e2c5-5f5800d547ba"
      },
      "source": [
        "print(f2(a))\n",
        "print(f2(b))\n",
        "print(f3(a))\n",
        "print(f3(b))"
      ],
      "execution_count": null,
      "outputs": [
        {
          "output_type": "stream",
          "name": "stdout",
          "text": [
            "2\n",
            "3\n",
            "16\n",
            "20\n"
          ]
        }
      ]
    },
    {
      "cell_type": "code",
      "metadata": {
        "id": "MZPOcOxkohyb",
        "colab": {
          "base_uri": "https://localhost:8080/"
        },
        "outputId": "6680b9f6-c031-4d0b-e4c7-88858bada161"
      },
      "source": [
        "print(f2(alfa*a+betha*b))\n",
        "print(alfa*f2(a)+betha*f2(b)) # Debe ser igual que la de arriba para que sea una función lineal f2. Cumple con la propiedad de la superposición.\n",
        "print(f3(alfa*a+betha*b))\n",
        "print(alfa*f3(a)+betha*f3(b)) # Debe ser igual que la de arriba para que sea una función lineal f3. Cumple con la propiedad de la superposición."
      ],
      "execution_count": null,
      "outputs": [
        {
          "output_type": "stream",
          "name": "stdout",
          "text": [
            "-2\n",
            "-2\n",
            "-8\n",
            "-8\n"
          ]
        }
      ]
    }
  ]
}